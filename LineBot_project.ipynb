{
  "nbformat": 4,
  "nbformat_minor": 0,
  "metadata": {
    "kernelspec": {
      "display_name": "Python 3",
      "language": "python",
      "name": "python3"
    },
    "language_info": {
      "codemirror_mode": {
        "name": "ipython",
        "version": 3
      },
      "file_extension": ".py",
      "mimetype": "text/x-python",
      "name": "python",
      "nbconvert_exporter": "python",
      "pygments_lexer": "ipython3",
      "version": "3.7.8"
    },
    "toc-autonumbering": true,
    "toc-showcode": true,
    "toc-showmarkdowntxt": true,
    "toc-showtags": true,
    "colab": {
      "name": "LineBot_project.ipynb",
      "provenance": [],
      "private_outputs": true,
      "collapsed_sections": [],
      "include_colab_link": true
    }
  },
  "cells": [
    {
      "cell_type": "markdown",
      "metadata": {
        "id": "view-in-github",
        "colab_type": "text"
      },
      "source": [
        "<a href=\"https://colab.research.google.com/github/JackHsuan/LineBotProject/blob/master/LineBot_project.ipynb\" target=\"_parent\"><img src=\"https://colab.research.google.com/assets/colab-badge.svg\" alt=\"Open In Colab\"/></a>"
      ]
    },
    {
      "cell_type": "code",
      "metadata": {
        "id": "cSmHi-q8YeBD",
        "colab_type": "code",
        "colab": {}
      },
      "source": [
        "!pip install line-bot-sdk\n",
        "!pip install pymysql\n",
        "!pip install selenium\n",
        "!apt-get update #to update ubuntu to correctly run apt install\n",
        "!apt install chromium-chromedriver\n",
        "!pip install pyngrok\n",
        "!pip install flask-ngrok #安裝Ngrok套件\n",
        "!cp /usr/lib/chromium-browser/chromedriver /usr/bin\n",
        "import sys\n",
        "sys.path.insert(0,'/usr/lib/chromium-browser/chromedriver')\n",
        "from google.colab import drive\n",
        "import os\n",
        "if(not(os.path.exists('/content/drive'))):\n",
        "    drive.mount('/content/drive')\n",
        "os.chdir('/content/drive/My Drive/Colab Notebooks/LineBotProject/')\n"
      ],
      "execution_count": null,
      "outputs": []
    },
    {
      "cell_type": "code",
      "metadata": {
        "id": "4RWs9Lc-nz2e",
        "colab_type": "code",
        "colab": {}
      },
      "source": [
        "# -*- coding: utf-8 -*-\n",
        "from flask import Flask, request, abort\n",
        "from linebot import (\n",
        "    LineBotApi, WebhookHandler\n",
        ")\n",
        "from linebot.exceptions import (\n",
        "    InvalidSignatureError\n",
        ")\n",
        "from linebot.models import (\n",
        "    MessageEvent ,UnfollowEvent ,FollowEvent, PostbackEvent, ImageMessage, VideoMessage,QuickReply,QuickReplyButton,FlexSendMessage,\n",
        "    TextMessage, TextSendMessage,ImageSendMessage, TemplateSendMessage, ButtonsTemplate, MessageAction, URIAction, PostbackAction,LocationAction,LocationMessage\n",
        ")\n",
        "import pymysql\n",
        "import configparser\n",
        "import requests\n",
        "from bs4 import BeautifulSoup\n",
        "import re\n",
        "import urllib\n",
        "import threading\n",
        "from functools import partial\n",
        "import requests.packages.urllib3\n",
        "from flask_ngrok import run_with_ngrok#引用ngrok套件\n",
        "from openpyxl import load_workbook\n",
        "import json\n",
        "import pandas as pd\n",
        "import time\n",
        "import concurrent.futures\n",
        "# import os\n",
        "\n",
        "requests.packages.urllib3.disable_warnings()"
      ],
      "execution_count": null,
      "outputs": []
    },
    {
      "cell_type": "code",
      "metadata": {
        "id": "SGmWKYxdvDui",
        "colab_type": "code",
        "colab": {}
      },
      "source": [
        "# !export FLASK_ENV=development"
      ],
      "execution_count": null,
      "outputs": []
    },
    {
      "cell_type": "code",
      "metadata": {
        "id": "bfkbsdQpt7GZ",
        "colab_type": "code",
        "colab": {}
      },
      "source": [
        "# def init_webhooks(base_url):\n",
        "#     # Update inbound traffic via APIs to use the public-facing ngrok URL\n",
        "#     pass\n",
        "\n",
        "# def create_app():\n",
        "#     app = Flask(__name__)\n",
        "\n",
        "#     # Initialize our ngrok settings into Flask\n",
        "#     app.config.from_mapping(\n",
        "#         BASE_URL=\"http://localhost:5000\",\n",
        "#         USE_NGROK=os.environ.get(\"USE_NGROK\", \"False\") == \"True\" and os.environ.get(\"WERKZEUG_RUN_MAIN\") != \"true\"\n",
        "#     )\n",
        "\n",
        "#     if app.config.get(\"ENV\") == \"development\" and app.config[\"USE_NGROK\"]:\n",
        "#         # pyngrok will only be installed, and should only ever be initialized, in a dev environment\n",
        "#         from pyngrok import ngrok\n",
        "#         from pyngrok.conf import PyngrokConfig\n",
        "#         # Get the dev server port (defaults to 5000 for Flask, can be overridden with `--port`\n",
        "#         # when starting the server\n",
        "#         port = sys.argv[sys.argv.index(\"--port\") + 1] if \"--port\" in sys.argv else 5000\n",
        "\n",
        "#         # Open a ngrok tunnel to the dev server\n",
        "#         pyngrok_config = PyngrokConfig(region=\"ap\")\n",
        "\n",
        "#         public_url = ngrok.connect(port,pyngrok_config=pyngrok_config)\n",
        "#         print(\" * ngrok tunnel \\\"{}\\\" -> \\\"http://127.0.0.1:{}/\\\"\".format(public_url, port))\n",
        "\n",
        "#         # Update any base URLs or webhooks to use the public ngrok URL\n",
        "#         app.config[\"BASE_URL\"] = public_url\n",
        "#         init_webhooks(public_url)\n",
        "\n",
        "#     # ... Initialize Blueprints and the rest of our app\n",
        "\n",
        "#     return app"
      ],
      "execution_count": null,
      "outputs": []
    },
    {
      "cell_type": "code",
      "metadata": {
        "id": "mE1YYkpzvIi5",
        "colab_type": "code",
        "colab": {}
      },
      "source": [
        "# app = create_app()\n",
        "# app.run"
      ],
      "execution_count": null,
      "outputs": []
    },
    {
      "cell_type": "code",
      "metadata": {
        "id": "4k9vkC4cnz2i",
        "colab_type": "code",
        "colab": {}
      },
      "source": [
        "app = Flask(__name__)\n",
        "config = configparser.ConfigParser()\n",
        "config.read(\"./config.ini\")\n",
        "RichMenuId = config['line_bot']['RichMenuId']\n",
        "file_path = '/content/drive/My Drive/forMac/jupyter_notebook_root/AI_class/jupyter_root_temp/Jack_line/LineBot_project'\n",
        "job_item_Message_Json = json.load(open('LineBotJsonFile/job_list_Message.json',))\n",
        "line_bot_api = LineBotApi(config['line_bot']['Channel_Access_Token'])\n",
        "handler = WebhookHandler(config['line_bot']['Channel_Secret'])\n",
        "_104_icon_url = 'https://static.104.com.tw/logo/104logo_o_180x26.svg'\n"
      ],
      "execution_count": null,
      "outputs": []
    },
    {
      "cell_type": "code",
      "metadata": {
        "id": "TEVCAudELvQY",
        "colab_type": "code",
        "colab": {}
      },
      "source": [
        "# _111_icon_url = ''"
      ],
      "execution_count": null,
      "outputs": []
    },
    {
      "cell_type": "code",
      "metadata": {
        "id": "Ja4e9EGhDuA6",
        "colab_type": "code",
        "colab": {}
      },
      "source": [
        "# df = Catch_104_joblist()"
      ],
      "execution_count": null,
      "outputs": []
    },
    {
      "cell_type": "code",
      "metadata": {
        "id": "bhQcnRAVBqx7",
        "colab_type": "code",
        "colab": {}
      },
      "source": [
        "# job_item_Message_Json['contents']['body']['contents'][0]['contents'][1]['action']['uri']\n",
        "\n",
        "# with concurrent.futures.ThreadPoolExecutor() as executor:\n",
        "#     future = executor.submit(foo, 'world!')\n",
        "#     return_value = future.result()\n",
        "#     print(return_value)"
      ],
      "execution_count": null,
      "outputs": []
    },
    {
      "cell_type": "code",
      "metadata": {
        "id": "io2F-2EQHSsH",
        "colab_type": "code",
        "colab": {}
      },
      "source": [
        "# params = {'ro': '0', 'keyword': 'Python', 'isnew': '30', 'mode': 's', 'area': '', 'asc': '0', 'order': '11', 'jobsource': '2018indexpoc', 'page': '3', 'jobexp': '1'}\n",
        "\n",
        "# joblist = Catch_104_joblist(my_paramas = params)"
      ],
      "execution_count": null,
      "outputs": []
    },
    {
      "cell_type": "code",
      "metadata": {
        "id": "D8tJ8JOKbX8q",
        "colab_type": "code",
        "colab": {}
      },
      "source": [
        "# print(joblist)"
      ],
      "execution_count": null,
      "outputs": []
    },
    {
      "cell_type": "code",
      "metadata": {
        "id": "cGsR3h8KbpVO",
        "colab_type": "code",
        "colab": {}
      },
      "source": [
        "# job_data_frames_old = pd.read_excel('jobs.xlsx',sheet_name=\"newsSearch\")\n",
        "# # print(job_data_frames_old)\n",
        "\n",
        "# new_job_data_frames = job_data_frames_old.append(joblist,ignore_index = True,sort = False)\n",
        "# print(new_job_data_frames)\n",
        "# # new_job_data_frames.drop_duplicates(inplace = True)\n",
        "# # print(new_job_data_frames)\n",
        "# # new_job_data_frames.to_excel('./jobs.xlsx',sheet_name = sheetName,startrow=1, index = False,header= False)\n",
        "# #     # writer.save()\n",
        "# # print(\"Write Done\")"
      ],
      "execution_count": null,
      "outputs": []
    },
    {
      "cell_type": "code",
      "metadata": {
        "id": "drdXsWpZcC0E",
        "colab_type": "code",
        "colab": {}
      },
      "source": [
        "# new_job_data_frames.drop_duplicates(subset=['公司名稱', '工作職稱', '工作內容'],inplace = True)\n",
        "# print(new_job_data_frames)"
      ],
      "execution_count": null,
      "outputs": []
    },
    {
      "cell_type": "code",
      "metadata": {
        "id": "wWv179qQcCVd",
        "colab_type": "code",
        "colab": {}
      },
      "source": [
        ""
      ],
      "execution_count": null,
      "outputs": []
    },
    {
      "cell_type": "code",
      "metadata": {
        "id": "W8mkzKPBsr4u",
        "colab_type": "code",
        "colab": {}
      },
      "source": [
        "def Catch_104_joblist(my_paramas=\"\",keyword=\"\",Jobtype='全職',area='台北市',page=1):\n",
        "    # 加入使用者資訊(如使用什麼瀏覽器、作業系統...等資訊)模擬真實瀏覽網頁的情況\n",
        "    headers = {'User-Agent': 'Mozilla/5.0 (Windows NT 10.0; Win64; x64) AppleWebKit/537.36 (KHTML, like Gecko) Chrome/73.0.3683.103 Safari/537.36'}\n",
        "    area_encode={'台北市':'600100100',\n",
        "        '新北市':'6001002000',\n",
        "        '宜蘭縣':'6001003000',\n",
        "        '基隆市':'6001004000',\n",
        "        '桃園市':'6001005000',\n",
        "        '新竹縣市':'6001006000',\n",
        "        '苗栗縣':'6001007000',\n",
        "        '台中市':'6001008000',\n",
        "        '彰化縣':'6001010000',\n",
        "        '南投縣':'6001011000',\n",
        "        '雲林縣':'6001012000',  \n",
        "        '嘉義縣市':'6001013000',  \n",
        "        '台南市':'6001014000',  \n",
        "        '高雄市':'6001016000',  \n",
        "        '屏東縣':'6001018000',  \n",
        "        '台東縣':'6001019000',  \n",
        "        '花蓮縣':'6001020000',  \n",
        "        '澎湖縣':'6001021000',  \n",
        "        '金門縣':'6001022000',  \n",
        "        '連江縣':'6001020000',}\n",
        "    job_type_decode = ['全部','全職','兼職','高階','派遣','接案','家教','其他']\n",
        "    # 查詢的關鍵字\n",
        "    if (my_paramas ==\"\"):\n",
        "        my_params = {'ro':str(int(job_type_decode.index(str(Jobtype)))), # 限定全職的工作，如果不限定則輸入0\n",
        "                    'keyword':keyword, # 想要查詢的關鍵字\n",
        "                    'area':area_encode[area], # 限定在台北的工作\n",
        "                    'isnew':'30', # 只要最近一個月有更新的過的職缺\n",
        "                    'mode':'s',\n",
        "                    'page':int(page)} # 清單的瀏覽模式\n",
        "        sheetName = \"personalSearch\"\n",
        "    else:\n",
        "        sheetName = \"newsSearch\"\n",
        "        my_params = my_paramas\n",
        "    print(\"in Catch_104_joblist\")\n",
        "    print(my_params)\n",
        "    index = requests.get('https://www.104.com.tw/jobs/search/?' , params = my_params, headers = headers)\n",
        "\n",
        "    # 透過BeautifulSoup解析資料\n",
        "    soup = BeautifulSoup(index.text, 'html.parser')\n",
        "    List = soup.findAll('a',{'class':'js-job-link'})\n",
        "    print('共有 ' + str(len(List)) + ' 筆資料')\n",
        "    print(List)\n",
        "    def bind(cate):\n",
        "        k = []\n",
        "        for i in cate:\n",
        "            if len(i.text) > 0:\n",
        "                k.append(i.text)\n",
        "        return str(k)\n",
        "    job_type_list = ['全職','兼職','高階','派遣','接案','家教','其他']\n",
        "    JobList = pd.DataFrame()\n",
        "\n",
        "    i = 0\n",
        "    for i in range(9):\n",
        "        # print('正在處理第' + str(i) + '筆，共 ' + str(len(List)) + ' 筆資料')\n",
        "        content = List[i]\n",
        "        # print(content)\n",
        "        # 這裡用Try的原因是，有時候爬太快會遭到系統阻擋導致失敗。因此透過這個方式，當我們遇到錯誤時，會重新再爬一次資料！\n",
        "        # try:\n",
        "        job_num = content.attrs['href'].strip('//').split('?')[0].split('/')[-1]\n",
        "        url = 'https://www.104.com.tw/job/ajax/content/%s'%job_num\n",
        "        headers = {\n",
        "            \"Referer\": \"https://www.104.com.tw/job/%s\"%job_num,\n",
        "        }\n",
        "        response = requests.get(url = url, headers = headers)\n",
        "        response.encoding = \"utf-8\"\n",
        "        print(response.text)\n",
        "        try:\n",
        "            data_json = json.loads(response.text)\n",
        "            # resp = requests.get('https://' + content.attrs['href'].strip('//'))\n",
        "            # soup2 = BeautifulSoup(resp.text,'html.parser')\n",
        "            \n",
        "            df = pd.DataFrame(\n",
        "                data = [{\n",
        "                    '公司名稱':data_json['data']['header']['custName'],\n",
        "                    '公司鏈結':data_json['data']['header']['custUrl'],#company_url\n",
        "                    '具備證照':data_json['data']['condition']['certificate'],\n",
        "                    '工作職稱':data_json['data']['header']['jobName'],\n",
        "                    '工作內容':data_json['data']['jobDetail']['jobDescription'],\n",
        "                    '職務類別':[x['description'] for x in data_json['data']['jobDetail']['jobCategory']],\n",
        "                    '工作待遇':data_json['data']['jobDetail']['salary'],\n",
        "                    '工作性質':job_type_list[int(data_json['data']['jobDetail']['hireType'])],\n",
        "                    '上班地點':data_json['data']['jobDetail']['addressRegion']+data_json['data']['jobDetail']['addressDetail'],\n",
        "                    '管理責任':data_json['data']['jobDetail']['manageResp'],\n",
        "                    '出差外派':data_json['data']['jobDetail']['businessTrip'],\n",
        "                    '上班時段':data_json['data']['jobDetail']['workPeriod'],\n",
        "                    '休假制度':data_json['data']['jobDetail']['vacationPolicy'],\n",
        "                    '可上班日':data_json['data']['jobDetail']['startWorkingDay'],\n",
        "                    '需求人數':data_json['data']['jobDetail']['needEmp'],\n",
        "                    '接受身份':[x['description'] for x in data_json['data']['condition']['acceptRole']['role']],\n",
        "                    '學歷要求':data_json['data']['condition']['edu'],\n",
        "                    '工作經歷':data_json['data']['condition']['workExp'],\n",
        "                    '語文條件':data_json['data']['condition']['language'],\n",
        "                    '工作技能':data_json['data']['condition']['skill'],\n",
        "                    '其他條件':data_json['data']['condition']['other'],\n",
        "                    '公司福利':data_json['data']['welfare']['welfare'],\n",
        "                    '科系要求':data_json['data']['condition']['major'],\n",
        "                    '聯絡方式':data_json['data']['contact'],\n",
        "                    '連結路徑':\"https://www.104.com.tw/job/%s\"%job_num}],\n",
        "                columns = ['公司名稱','工作職稱','工作內容','職務類別','工作待遇','工作性質','上班地點','管理責任','出差外派',\n",
        "                            '上班時段','休假制度','可上班日','需求人數','接受身份','學歷要求','工作經歷','語文條件',\n",
        "                            '工作技能','其他條件','公司福利','科系要求','聯絡方式','連結路徑','具備證照','公司標記','公司照片',\n",
        "                        '公司鏈結','擅長工具'])\n",
        "            # try:\n",
        "            #     df['具備證照'] = data_json['data']['condition']['certificate']\n",
        "            # except:\n",
        "            #     pass\n",
        "            try:\n",
        "                df['公司標記'] = data_json['data']['custLogo']#company_icon\n",
        "            except:\n",
        "                pass\n",
        "            try:\n",
        "                df['公司照片'] = data_json['data']['environmentPic']['corpImageBottom']['imageUrl']\n",
        "            except:\n",
        "                pass\n",
        "            try:\n",
        "                df['擅長工具'] = [x['description'] for x in data_json['data']['jobDetail']['specialty']]\n",
        "            except:\n",
        "                pass\n",
        "            \n",
        "            JobList = JobList.append(df, ignore_index=True)\n",
        "            i += 1\n",
        "            print(\"Success and Crawl Next 目前正在爬第\" + str(i) + \"個職缺資訊\")\n",
        "            time.sleep(0.5) # 執行完休息0.5秒，避免造成對方主機負擔\n",
        "            # except Exception as e:\n",
        "            #     print(e)\n",
        "            #     print(content)\n",
        "            #     print(\"Fail and Try Again!\")\n",
        "        except Exception as e:\n",
        "            print(e)\n",
        "    threading.Thread(target=make_data_into_excel, args=(JobList,sheetName)).start() \n",
        "    return JobList\n",
        "    \n",
        "def make_data_into_excel(JobList,sheetName):\n",
        "    job_data_frames = JobList\n",
        "    if (os.path.exists('./jobs.xlsx')):\n",
        "        try:\n",
        "            print(\"jobs.xlsx exit!! Trying Write\")\n",
        "            # with open(\"./jobs.xlsx\", \"r\") as f:\n",
        "            #     book = load_workbook('jobs.xlsx')\n",
        "            #     writer = pd.ExcelWriter('jobs.xlsx', engine='openpyxl')\n",
        "                # writer.book = book\n",
        "                # writer.sheets = {ws.title: ws for ws in book.worksheets}\n",
        "\n",
        "            job_data_frames_old = pd.read_excel('jobs.xlsx',sheet_name = sheetName)\n",
        "            print(job_data_frames_old)\n",
        "            new_job_data_frames = job_data_frames_old.append(job_data_frames,ignore_index = True,sort = False)\n",
        "            print(new_job_data_frames)\n",
        "            new_job_data_frames.drop_duplicates(subset=['公司名稱', '工作職稱', '工作內容'],inplace = True)\n",
        "            print(new_job_data_frames)\n",
        "            new_job_data_frames.to_excel('./jobs.xlsx',sheet_name = sheetName, index = False)\n",
        "            # writer.save()\n",
        "            print(\"Write Done\")\n",
        "        except Exception as e:\n",
        "            print(e)\n",
        "            # writer.save()\n",
        "    else:\n",
        "        job_data_frames.to_excel('./jobs.xlsx',sheet_name = sheetName, index = False)\n",
        "        "
      ],
      "execution_count": null,
      "outputs": []
    },
    {
      "cell_type": "code",
      "metadata": {
        "id": "6e9SunQ7nz2l",
        "colab_type": "code",
        "colab": {}
      },
      "source": [
        "# #manga_UrlKey = 'manhua-beifanchangguideyingxiongyangyudade-changshiwaidemofajianshi' (e.g.) 查看漫畫的集數\n",
        "# def Manga_chapterList(manga_UrlKey):\n",
        "# #         manga_index = 'http://www.manhuaren.com/%s/?from=/manhua-list-area36-s2/'%manga_UrlKey\n",
        "#     manga_index = 'http://www.manhuaren.com/%s/'%manga_UrlKey\n",
        "#     user_agent = 'Mozilla/5.0 (Windows NT 6.1; WOW64; rv:50.0) Gecko/20100101 Firefox/50.0'\n",
        "#     headers = { 'User-Agent' : user_agent }\n",
        "#     index = requests.get(manga_index,headers=headers, verify = False)\n",
        "#     soup = BeautifulSoup(index.text,\"lxml\")\n",
        "#     chapterRawLists = soup.find_all('a',class_='chapteritem')\n",
        "#     chapter_list = {}\n",
        "#     for i in chapterRawLists:\n",
        "#         chapter_list[i.text] = i.get_attribute_list('href')\n",
        "#     return chapter_list"
      ],
      "execution_count": null,
      "outputs": []
    },
    {
      "cell_type": "code",
      "metadata": {
        "tags": [
          "Manga_make_jpg"
        ],
        "id": "eTC9ahjfnz2o",
        "colab_type": "code",
        "colab": {}
      },
      "source": [
        "# #manga = {'ShowPicUrlB':'__圖片網址__','ID':數字}\n",
        "# def Manga_make_jpg(manga):\n",
        "#     img_url = manga['ShowPicUrlB']\n",
        "#     try:\n",
        "#         os.mkdir('./photo')\n",
        "#     except:\n",
        "#         pass\n",
        "#     if (os.path.exists('./photo/%s.jpg'%str(manga['ID']))):\n",
        "#         pass\n",
        "#     else:\n",
        "#         res = requests.get(img_url,verify = False).content\n",
        "#         with open('./photo/%s.jpg'%str(manga['ID']),'wb') as f:     #二進位制寫入\n",
        "#             f.write(res)"
      ],
      "execution_count": null,
      "outputs": []
    },
    {
      "cell_type": "code",
      "metadata": {
        "tags": [
          "Search_manga"
        ],
        "id": "Wi_ODTq8nz2t",
        "colab_type": "code",
        "colab": {}
      },
      "source": [
        "# def search_manga_info(count,search_text):\n",
        "#     Web_Site_URL = \"https://www.manhuaren.com/pagerdata.ashx?\"\n",
        "#     user_agent = 'Mozilla/5.0 (Macintosh; Intel Mac OS X 10_14_6) AppleWebKit/537.36 (KHTML, like Gecko) Chrome/84.0.4147.89 Safari/537.36'\n",
        "#     headers = { 'User-Agent' : user_agent }\n",
        "#     form_data = {\n",
        "#         't':'7',\n",
        "#         'pageindex':count,\n",
        "#         'f':'0',\n",
        "#         'title':search_text}\n",
        "#     data_dict = requests.post(Web_Site_URL,headers=headers,data=form_data,verify = False).json()\n",
        "#     new_data_dict = {}\n",
        "#     for i in data_dict:\n",
        "#         if('UpdateComicItems' in new_data_dict):\n",
        "#             new_data_dict['UpdateComicItems'].append({'ID':i['Id'],'Title':i['Title'],'UrlKey':i['Url'],'ShowPicUrlB':i['BigPic'],})\n",
        "#         else:\n",
        "#             new_data_dict['UpdateComicItems']= []\n",
        "#             new_data_dict['UpdateComicItems'].append({'ID':i['Id'],'Title':i['Title'],'UrlKey':i['Url'],'ShowPicUrlB':i['BigPic'],})\n",
        "#     for manga in new_data_dict['UpdateComicItems']:\n",
        "#         threading.Thread(target = Manga_make_jpg,args = (manga,)).start()\n",
        "#     return new_data_dict"
      ],
      "execution_count": null,
      "outputs": []
    },
    {
      "cell_type": "code",
      "metadata": {
        "id": "kSc6mtRCL0lz",
        "colab_type": "code",
        "colab": {}
      },
      "source": [
        "def get_setting_Message(userID):\n",
        "    config = configparser.ConfigParser()\n",
        "    config.read(('./personal_config/%s.ini')%(userID))\n",
        "    check_section(('./personal_config/%s.ini')%(userID))\n",
        "    with open(\"./LineBotJsonFile/job_setting_list.json\", encoding=\"utf8\") as json_file:\n",
        "        # loads=>把文字轉換成物件(字串跟字典組成)  // dumps=>把物件轉成文字\n",
        "        json_str = json_file.read()\n",
        "    if ('keyword' in config['params']):\n",
        "        keyword = config['params']['keyword']\n",
        "        if (keyword == \"\"):\n",
        "            keyword = '目前未設定'\n",
        "            # if ('、' in keyword):\n",
        "            #     keyword = keyword.replace('、','%20')\n",
        "        # else:\n",
        "        #     keyword = \n",
        "    else:\n",
        "        keyword = '目前未設定'\n",
        "    if ('area' in config['params']):\n",
        "        area = config['params']['area']\n",
        "        if (area != \"\"):\n",
        "            # if ('%%2C' in area):\n",
        "            #     area = area.replace('%2C','、')\n",
        "            area_encode={'台北市':'600100100',\n",
        "                '新北市':'6001002000',\n",
        "                '宜蘭縣':'6001003000',\n",
        "                '基隆市':'6001004000',\n",
        "                '桃園市':'6001005000',\n",
        "                '新竹縣市':'6001006000',\n",
        "                '苗栗縣':'6001007000',\n",
        "                '台中市':'6001008000',\n",
        "                '彰化縣':'6001010000',\n",
        "                '南投縣':'6001011000',\n",
        "                '雲林縣':'6001012000',  \n",
        "                '嘉義縣市':'6001013000',  \n",
        "                '台南市':'6001014000',  \n",
        "                '高雄市':'6001016000',  \n",
        "                '屏東縣':'6001018000',  \n",
        "                '台東縣':'6001019000',  \n",
        "                '花蓮縣':'6001020000',  \n",
        "                '澎湖縣':'6001021000',  \n",
        "                '金門縣':'6001022000',  \n",
        "                '連江縣':'6001020000',}\n",
        "            for ctName in area_encode:\n",
        "                if (area_encode[ctName] in area):\n",
        "                    area = area.replace(area_encode[ctName],ctName)\n",
        "        else:\n",
        "            area = '全部'\n",
        "    else:\n",
        "        area = '全部'\n",
        "    if ('ro' in config['params']):\n",
        "        ro = config['params']['ro']\n",
        "        job_type_decode = ['全部','全職','兼職','高階','派遣','接案','家教','其他']\n",
        "        ro = job_type_decode[1]\n",
        "    if ('sctp' in config['params']):  \n",
        "        sctp = config['params']['sctp']\n",
        "        scmin = config['params']['scmin']\n",
        "        if (sctp != ''):\n",
        "            if (sctp =='H'):\n",
        "                sctp = '時薪'\n",
        "            else:\n",
        "                sctp = '月薪'\n",
        "        else:\n",
        "            sctp = '全部'\n",
        "            scmin = ''\n",
        "    else:\n",
        "        sctp = '全部'\n",
        "        scmin = ''\n",
        "    json_str = json_str.replace('__關鍵字__',keyword)\n",
        "    json_str = json_str.replace('__地區__',area)\n",
        "    json_str = json_str.replace('__薪資__',str(sctp+scmin))\n",
        "    json_str = json_str.replace('__工作性質__',ro)\n",
        "    obj = json.loads(json_str)\n",
        "    print(obj)\n",
        "    return FlexSendMessage.new_from_json_dict(obj)"
      ],
      "execution_count": null,
      "outputs": []
    },
    {
      "cell_type": "code",
      "metadata": {
        "id": "UEGt4QAyy2FW",
        "colab_type": "code",
        "colab": {}
      },
      "source": [
        "NotFoundPage = 'https://www.104.com.tw/jobs/main/syserr?eid=14805901391537855361'\n",
        "def make_flex_message(df):\n",
        "    job_listObject_Json = json.load(open('LineBotJsonFile/job_ListObject.json',))\n",
        "    \n",
        "    for i in range(9):\n",
        "        with open(\"./LineBotJsonFile/job_list_Message.json\", encoding=\"utf8\") as json_file:\n",
        "            # loads=>把文字轉換成物件(字串跟字典組成)  // dumps=>把物件轉成文字\n",
        "            json_str = json_file.read()\n",
        "        # job_item_Message_Json = json.load(open('LineBotJsonFile/job_list_Message.json',))\n",
        "        # df.values[i][0]#\n",
        "\n",
        "        json_str = json_str.replace('工作名稱',str(df['工作職稱'].values[i]))\n",
        "        json_str = json_str.replace('公司名稱',str(df['公司名稱'].values[i]))\n",
        "        if (str(df['公司鏈結'].values[i]) == '' ):\n",
        "            json_str = json_str.replace('https://www.company_url.com/',str(NotFoundPage))\n",
        "        else:\n",
        "            json_str = json_str.replace('https://www.company_url.com/',str(df['公司鏈結'].values[i]))\n",
        "        if (str(df['公司標記'].values[i]) == ''):\n",
        "            json_str = json_str.replace('https://www.company_icon.com/',str(NotFoundPage))\n",
        "        else:\n",
        "            json_str = json_str.replace('https://www.company_icon.com/',str(df['公司標記'].values[i]))\n",
        "        json_str = json_str.replace('工作待遇',\"工作待遇：\"+str(df['工作待遇'].values[i]))\n",
        "        json_str = json_str.replace('工作性質',\"工作性質：\"+str(df['工作性質'].values[i]))\n",
        "        json_str = json_str.replace('休假制度',\"休假制度：\"+str(df['休假制度'].values[i]))\n",
        "        json_str = json_str.replace('需求人數',\"需求人數\"+str(df['需求人數'].values[i]))\n",
        "        json_str = json_str.replace('工作性質',\"工作性質：\"+str(df['工作性質'].values[i]))\n",
        "        if (str(df['公司照片'].values[i]) == ''):\n",
        "            json_str = json_str.replace('https://www.company_envImg.com/',str(NotFoundPage))\n",
        "        else:\n",
        "            json_str = json_str.replace('https://www.company_envImg.com/',str(df['公司照片'].values[i]))\n",
        "        json_str = json_str.replace('https://Job_Url.com',str(df['連結路徑'].values[i]))\n",
        "        obj = json.loads(json_str)\n",
        "        job_listObject_Json['contents']['contents'].append(obj)\n",
        "    \n",
        "\n",
        "    job_seeMore_Message_Json = json.load(open('LineBotJsonFile/job_seeMore.json',))\n",
        "    job_listObject_Json['contents']['contents'].append(job_seeMore_Message_Json)\n",
        "    print(job_listObject_Json)\n",
        "    return FlexSendMessage.new_from_json_dict(job_listObject_Json)\n",
        "\n",
        "def check_section(file_name):#確定section有沒有缺少\n",
        "    config = configparser.ConfigParser()\n",
        "    config.read(file_name)\n",
        "    if (config.has_section(\"params\") == False):\n",
        "        config.add_section(\"params\")\n",
        "        config.set(\"params\",\"ro\",\"0\")\n",
        "        config.set(\"params\",\"keyword\",\"\")\n",
        "        config.set(\"params\",\"isnew\",\"30\")\n",
        "        config.set(\"params\",\"mode\",\"s\")\n",
        "        config.set(\"params\",\"area\",\"\")\n",
        "        config.set(\"params\",\"asc\",\"0\")\n",
        "        config.set(\"params\",\"order\",\"14\")\n",
        "        config.set(\"params\",\"jobsource\",\"2018indexpoc\")\n",
        "        # config.write(open((file_name, 'w')))\n",
        "    if (config.has_section(\"personstatus\") == False):\n",
        "        config.add_section(\"personstatus\")\n",
        "        config.set(\"personstatus\",\"catch_word\",\"0\")\n",
        "        # config.write(open(file_name, 'w'))\n",
        "    with open(file_name, 'w') as configfile:\n",
        "        config.write(configfile)\n",
        "# {'ro': '0', 'keyword': 'Python', 'isnew': '30', 'mode': 's', 'area': '6001002000%2C600100100', 'asc': '0', 'order': '14', 'page': 1,'jobsource':'2018indexpoc'}\n",
        "def handle_params(params,userID):#將params內容寫入個人設定檔\n",
        "    config = configparser.ConfigParser()\n",
        "    config.read(('./personal_config/%s.ini')%(userID))\n",
        "    check_section(('./personal_config/%s.ini')%(userID))\n",
        "    for key in params:\n",
        "        config.set('params', key, str(params[key]))\n",
        "    with open(('./personal_config/%s.ini')%(userID), 'w') as configfile:\n",
        "        config.write(configfile)\n",
        "    # config.write(open(('./personal_config/%s.ini')%(userID), 'w'))\n",
        "\n",
        "    # {'ro': '0', 'order': '11', 'asc': '0', 'page': '1', 'jobexp': '1', 'mode': 's', 'jobsource': '2018indexpoc'}"
      ],
      "execution_count": null,
      "outputs": []
    },
    {
      "cell_type": "code",
      "metadata": {
        "id": "jPLq0-ouyvNC",
        "colab_type": "code",
        "colab": {}
      },
      "source": [
        "def get_Menu_Message():\n",
        "    buttons_template_message = TemplateSendMessage(\n",
        "            alt_text='Buttons template',\n",
        "            template=ButtonsTemplate(\n",
        "                thumbnail_image_url='https://i2.wp.com/blog.104.com.tw/wp-content/uploads/2018/02/104logo-orange.png?',\n",
        "                title='Menu',\n",
        "                text='Please select',\n",
        "                actions=[\n",
        "                    PostbackAction(\n",
        "                        label='新鮮人推薦工作',\n",
        "                        display_text='新鮮人找工作',\n",
        "                        data='lmode=1&ro=0&order=11&asc=0&page=1&jobexp=1&mode=s&jobsource=2018indexpoc'\n",
        "                    ),\n",
        "                    #以用戶身份發送text\n",
        "                    MessageAction(\n",
        "                        label='找工作',\n",
        "                        text='設定',\n",
        "\n",
        "                    ),\n",
        "                    #網址鏈結 參考：google:'line URI scheme'\n",
        "                    URIAction(\n",
        "                        label='透過位置尋找',\n",
        "                        uri='https://line.me/R/nv/location/'),\n",
        "                    \n",
        "                    #打電話\n",
        "                    URIAction(\n",
        "                        label='聯絡客服',\n",
        "                        uri='tel://113'\n",
        "                    )\n",
        "                ]\n",
        "            )\n",
        "        )\n",
        "    return buttons_template_message"
      ],
      "execution_count": null,
      "outputs": []
    },
    {
      "cell_type": "code",
      "metadata": {
        "id": "MPVdBLlVjm6E",
        "colab_type": "code",
        "colab": {}
      },
      "source": [
        "def transfer_params(params):\n",
        "    for key in params:\n",
        "        if (\"、\" in str(params[key])):\n",
        "            if (key == 'keyword'):\n",
        "                params[key] = params[key].replace(\"、\",\"%20\")\n",
        "            if (key == 'area'):\n",
        "                params[key] = params[key].replace(\"、\",\"%2C\")\n",
        "    return params"
      ],
      "execution_count": null,
      "outputs": []
    },
    {
      "cell_type": "code",
      "metadata": {
        "id": "QxDlhlyuPQ8U",
        "colab_type": "code",
        "colab": {}
      },
      "source": [
        "def makeMessageReply(reply_token,params):\n",
        "    params = transfer_params(params)\n",
        "    df = Catch_104_joblist(my_paramas = params)\n",
        "    df = df.fillna('https://www.104.com.tw/jobs/main/syserr?eid=14805901391537855361')\n",
        "    jobListLineMessage = make_flex_message(df)\n",
        "    # print(event.reply_token)\n",
        "    line_bot_api.reply_message(\n",
        "        reply_token,\n",
        "        jobListLineMessage)"
      ],
      "execution_count": null,
      "outputs": []
    },
    {
      "cell_type": "code",
      "metadata": {
        "id": "bvg0qmmojD_0",
        "colab_type": "code",
        "colab": {}
      },
      "source": [
        "@app.route(\"/\",methods=['GET'])\n",
        "def getdata():\n",
        "\treturn \"Hello Workd\""
      ],
      "execution_count": null,
      "outputs": []
    },
    {
      "cell_type": "code",
      "metadata": {
        "id": "AORtyBfhnz2w",
        "colab_type": "code",
        "colab": {}
      },
      "source": [
        "@app.route(\"/callback\", methods=['POST'])\n",
        "def callback():\n",
        "    # get X-Line-Signature header value\n",
        "    signature = request.headers['X-Line-Signature']\n",
        "\n",
        "    # get request body as text\n",
        "    body = request.get_data(as_text=True)\n",
        "    app.logger.info(\"Request body: \" + body)\n",
        "\n",
        "    # handle webhook body\n",
        "    try:\n",
        "        handler.handle(body, signature)\n",
        "    except InvalidSignatureError:\n",
        "        print(\"Invalid signature. Please check your channel access token/channel secret.\")\n",
        "        abort(400)\n",
        "\n",
        "    return 'OK'"
      ],
      "execution_count": null,
      "outputs": []
    },
    {
      "cell_type": "markdown",
      "metadata": {
        "tags": [
          "TextMessageEvent"
        ],
        "id": "IzZIMH0znz2y",
        "colab_type": "text"
      },
      "source": [
        "Text Message Event"
      ]
    },
    {
      "cell_type": "code",
      "metadata": {
        "id": "vD9BK1vmnz2z",
        "colab_type": "code",
        "colab": {}
      },
      "source": [
        "@handler.add(MessageEvent, message=TextMessage)\n",
        "def handle_message(event):\n",
        "    user_profile = line_bot_api.get_profile(event.source.user_id)\n",
        "    config = configparser.ConfigParser()\n",
        "    config.read(('./personal_config/%s.ini')%(event.source.user_id))\n",
        "    print(event)\n",
        "    # personal_setting_Message = get_setting_Message(event.source.user_id)\n",
        "    check_section(('./personal_config/%s.ini')%(event.source.user_id))\n",
        "    # if (config.has_section(\"params\") == False):\n",
        "    #     config.add_section(\"params\")\n",
        "        # with open(('./personal_config/%s.ini')%(event.source.user_id), 'w') as configfile:\n",
        "        #     config.write(configfile)\n",
        "    if (event.message.text == '::找工作::'):\n",
        "        line_bot_api.reply_message(\n",
        "            event.reply_token,\n",
        "            TextSendMessage(\"請輸入關鍵字(例：工作職稱、公司名、技能專長...):\")\n",
        "            )\n",
        "        config.set('personstatus','catch_word',str(1))\n",
        "        with open(('./personal_config/%s.ini')%(event.source.user_id), 'w') as configfile:\n",
        "            config.write(configfile)\n",
        "        # config.write(open(('./personal_config/%s.ini')%(event.source.user_id), 'w'))\n",
        "        \n",
        "    elif (event.message.text == '目錄'):\n",
        "        line_bot_api.reply_message(\n",
        "            event.reply_token,\n",
        "            get_Menu_Message()\n",
        "            )\n",
        "    elif (event.message.text == '設定'):\n",
        "        line_bot_api.reply_message(\n",
        "            event.reply_token,\n",
        "            get_setting_Message(event.source.user_id)\n",
        "            )\n",
        "    elif (event.message.text == '添加'):\n",
        "        pass\n",
        "    elif (event.message.text == '::查看更多::'):\n",
        "        # with open(('./personal_config/%s.ini')%(event.source.user_id) 'w'):\n",
        "        page = int(config['params']['page'])+1\n",
        "        config.set('params','page',str(page))\n",
        "        with open(('./personal_config/%s.ini')%(event.source.user_id), 'w') as configfile:\n",
        "            config.write(configfile)\n",
        "        # config.write(open(('./personal_config/%s.ini')%(event.source.user_id)), 'w')\n",
        "        params = {}\n",
        "        # for section in config['']:\n",
        "        #     # print(i)\n",
        "        for key in config['params']:\n",
        "            \n",
        "            params[key] = config['params'][key]\n",
        "            # if (params[key])\n",
        "        # print(params)\n",
        "        threading.Thread(target = makeMessageReply,args = (event.reply_token,params)).start()\n",
        "        # params = transfer_params(params)\n",
        "        # print(params)\n",
        "        # df = Catch_104_joblist(my_paramas = params)\n",
        "        # df = df.fillna('https://www.104.com.tw/jobs/main/syserr?eid=14805901391537855361')\n",
        "        # jobListLineMessage = make_flex_message(df)\n",
        "        # # print(event.reply_token)\n",
        "        # line_bot_api.reply_message(\n",
        "        #     event.reply_token,\n",
        "        #     jobListLineMessage)\n",
        "    else:\n",
        "        if (config['personstatus']['catch_word'] == str(1)):\n",
        "            if ('keyword' not in config['params']):\n",
        "                config.set('params','keyword',str(event.message.text))\n",
        "            elif (config['params']['keyword'] != ''):\n",
        "                config.set('params','keyword',config['params']['keyword']+\"、\"+str(event.message.text))\n",
        "            else:\n",
        "                config.set('params','keyword',str(event.message.text))\n",
        "            config.set('personstatus','catch_word',str(0))\n",
        "            with open(('./personal_config/%s.ini')%(event.source.user_id), 'w') as configfile:\n",
        "                config.write(configfile)\n",
        "            # config.write(open(('./personal_config/%s.ini')%(event.source.user_id), 'w'))\n",
        "            line_bot_api.reply_message(\n",
        "                event.reply_token,\n",
        "                [TextSendMessage(\"已經添加關鍵字:\"+event.message.text),get_setting_Message(event.source.user_id)]\n",
        "                )"
      ],
      "execution_count": null,
      "outputs": []
    },
    {
      "cell_type": "code",
      "metadata": {
        "id": "T1cvcgGqsJDH",
        "colab_type": "code",
        "colab": {}
      },
      "source": [
        "@handler.add(MessageEvent, message=LocationMessage)\n",
        "def handle_message(event):\n",
        "    print(event)\n",
        "    user_profile = line_bot_api.get_profile(event.source.user_id)\n",
        "    line_bot_api.reply_message(\n",
        "        event.reply_token,[TextSendMessage(\"%s您好，歡迎使用本服務，目前暫不提供透過地理查詢:\"%user_profile.display_name),])"
      ],
      "execution_count": null,
      "outputs": []
    },
    {
      "cell_type": "markdown",
      "metadata": {
        "tags": [
          "ImageMessageEvent"
        ],
        "id": "6vAzJfi0nz22",
        "colab_type": "text"
      },
      "source": [
        "Image Message Event"
      ]
    },
    {
      "cell_type": "code",
      "metadata": {
        "id": "CoqcX4Utnz23",
        "colab_type": "code",
        "colab": {}
      },
      "source": [
        "@handler.add(MessageEvent, message=ImageMessage)\n",
        "def handle_ImgMessage(event):\n",
        "    print(event)\n",
        "    #line_bot_api get_content (抓賴訊息傳的圖)\n",
        "    ImgMessage_content = line_bot_api.get_message_content(event.message.id)\n",
        "    print(ImgMessage_content)\n",
        "    \n",
        "    with open('./%s.png'%str(event.message.id),'wb') as f:     #二進位制寫入\n",
        "        for chunk in ImgMessage_content.iter_content():\n",
        "            f.write(chunk)\n",
        "    \n",
        "    #上傳到S3\n",
        "    # response = s3_client.upload_file(('./%s.png'%str(event.message.id)), 'iii-tutorial-v2', ('Student9487/%s.png'%str(event.message.id)))\n",
        "    \n",
        "    line_bot_api.reply_message(event.reply_token,[TextSendMessage(\"你傳的圖片被我抓了哈哈哈\"), ImageSendMessage(\n",
        "        original_content_url = 'https://stickershop.line-scdn.net/stickershop/v1/product/1052655/LINEStorePC/main.png;compress=true',\n",
        "        preview_image_url= 'https://stickershop.line-scdn.net/stickershop/v1/product/1052655/LINEStorePC/main.png;compress=true')])\n",
        "    # line_bot_api.reply_message(\n",
        "    #     event.reply_token,\n",
        "    #     TextSendMessage(text=event.message.text)"
      ],
      "execution_count": null,
      "outputs": []
    },
    {
      "cell_type": "markdown",
      "metadata": {
        "tags": [
          "VideoMessageEvent"
        ],
        "id": "t-s1InBSnz25",
        "colab_type": "text"
      },
      "source": [
        "Video Message Event"
      ]
    },
    {
      "cell_type": "code",
      "metadata": {
        "id": "L4kC9yCLnz25",
        "colab_type": "code",
        "colab": {}
      },
      "source": [
        "@handler.add(MessageEvent, message=VideoMessage)\n",
        "def handle_Mp4Message(event):\n",
        "    print(event)\n",
        "    ImgMessage_content = line_bot_api.get_message_content(event.message.id)\n",
        "    print(ImgMessage_content)\n",
        "    with open('./%s.mkv'%str(event.message.id),'wb') as f:     #二進位制寫入\n",
        "        for chunk in ImgMessage_content.iter_content():\n",
        "            f.write(chunk)\n",
        "    line_bot_api.reply_message(event.reply_token,[TextSendMessage(\"你傳的影片被我抓了哈哈哈\"), ImageSendMessage(\n",
        "        original_content_url = 'https://stickershop.line-scdn.net/stickershop/v1/product/1052655/LINEStorePC/main.png;compress=true',\n",
        "        preview_image_url= 'https://stickershop.line-scdn.net/stickershop/v1/product/1052655/LINEStorePC/main.png;compress=true')])\n",
        "    # line_bot_api.reply_message(\n",
        "    #     event.reply_token,\n",
        "    #     TextSendMessage(text=event.message.text))\n",
        "        "
      ],
      "execution_count": null,
      "outputs": []
    },
    {
      "cell_type": "markdown",
      "metadata": {
        "tags": [
          "PostbackEvent"
        ],
        "id": "14sK9cJunz28",
        "colab_type": "text"
      },
      "source": [
        "Postback Event"
      ]
    },
    {
      "cell_type": "code",
      "metadata": {
        "id": "P0Qg2IpN1KXk",
        "colab_type": "code",
        "colab": {}
      },
      "source": [
        "# p = {'ro': '0', 'order': '11', 'asc': '0', 'page': '1', 'jobexp': '1', 'mode': 's', 'jobsource': '2018indexpoc'}\n",
        "# for i in p:\n",
        "#     print(i)\n",
        "# 'ro' in config['params']"
      ],
      "execution_count": null,
      "outputs": []
    },
    {
      "cell_type": "code",
      "metadata": {
        "id": "EkcrGOo_nz28",
        "colab_type": "code",
        "colab": {}
      },
      "source": [
        "@handler.add(PostbackEvent)\n",
        "def handle_Postback(event):\n",
        "    print(event)\n",
        "    user_profile = line_bot_api.get_profile(event.source.user_id)\n",
        "    data_str = event.postback.data\n",
        "    config = configparser.ConfigParser()\n",
        "    config.read(('./personal_config/%s.ini')%(event.source.user_id))\n",
        "    data_split = data_str.split('&')\n",
        "    Mode = -1\n",
        "    params = {}\n",
        "    # check_section(('./personal_config/%s.ini')%(event.source.user_id))\n",
        "    \n",
        "    for item in data_split:\n",
        "        if (item.split('=')[0]=='lmode'):\n",
        "            Mode = item.split('=')[1]\n",
        "        else:\n",
        "            params[item.split('=')[0]] = item.split('=')[1]\n",
        "    print(\"Mode = :\",Mode)\n",
        "    if Mode == '1':#新鮮人找工作\n",
        "        print(params)\n",
        "        params['page'] = 1\n",
        "        handle_params(params,event.source.user_id)\n",
        "        threading.Thread(target = makeMessageReply,args = (event.reply_token,params)).start()\n",
        "        # df = Catch_104_joblist(my_paramas = params)\n",
        "        # df = df.fillna('https://www.104.com.tw/jobs/main/syserr?eid=14805901391537855361')\n",
        "        # jobListLineMessage = make_flex_message(df)\n",
        "        # config.set('params','page',str('1'))\n",
        "        # config.write(open(('./personal_config/%s.ini')%(event.source.user_id), 'w'))\n",
        "        # # print(event.reply_token)\n",
        "        # line_bot_api.reply_message(\n",
        "        #     event.reply_token,\n",
        "        #     jobListLineMessage)\n",
        "    elif Mode == '3':#設定搜尋條件\n",
        "        if ('area' in params):\n",
        "            if (params['area'] == \"North\"):\n",
        "                text_message = TextSendMessage(text='請選擇地點',\n",
        "                                quick_reply=QuickReply(items=[\n",
        "                                    QuickReplyButton(action=PostbackAction(label=\"臺北市\", display_text=\"臺北市\",data='lmode=4&area=600100100')),\n",
        "                                    QuickReplyButton(action=PostbackAction(label=\"新北市\", display_text=\"新北市\",data='lmode=4&area=6001002000')),\n",
        "                                    QuickReplyButton(action=PostbackAction(label=\"基隆市\", display_text=\"基隆市\",data='lmode=4&area=6001004000')),\n",
        "                                    QuickReplyButton(action=PostbackAction(label=\"桃園市\", display_text=\"桃園市\",data='lmode=4&area=6001005000')),\n",
        "                                    QuickReplyButton(action=PostbackAction(label=\"新竹縣市\", display_text=\"新竹縣市\",data='lmode=4&area=6001006000')),\n",
        "                                    QuickReplyButton(action=PostbackAction(label=\"苗栗縣\", display_text=\"苗栗縣\",data='lmode=4&area=6001007000')),\n",
        "                                ]))\n",
        "                line_bot_api.reply_message(\n",
        "                    event.reply_token,\n",
        "                    text_message\n",
        "                    )\n",
        "            if (params['area'] == \"central\"):\n",
        "                text_message = TextSendMessage(text='請選擇地點',\n",
        "                                quick_reply=QuickReply(items=[\n",
        "                                    QuickReplyButton(action=PostbackAction(label=\"宜蘭縣\", display_text=\"宜蘭縣\",data='lmode=4&area=6001003000')),\n",
        "                                    QuickReplyButton(action=PostbackAction(label=\"花蓮縣\", display_text=\"花蓮縣\",data='lmode=4&area=6001020000')),\n",
        "                                    QuickReplyButton(action=PostbackAction(label=\"臺東縣\", display_text=\"臺東縣\",data='lmode=4&area=6001019000')),\n",
        "                                    QuickReplyButton(action=PostbackAction(label=\"臺中市\", display_text=\"臺中市\",data='lmode=4&area=6001008000')),\n",
        "                                    QuickReplyButton(action=PostbackAction(label=\"彰化縣\", display_text=\"彰化縣\",data='lmode=4&area=6001010000')),\n",
        "                                    QuickReplyButton(action=PostbackAction(label=\"雲林縣\", display_text=\"雲林縣\",data='lmode=4&area=6001012000')),\n",
        "                                    QuickReplyButton(action=PostbackAction(label=\"南投縣\", display_text=\"南投縣\",data='lmode=4&area=6001011000')),\n",
        "                                ]))\n",
        "                line_bot_api.reply_message(\n",
        "                    event.reply_token,\n",
        "                    text_message\n",
        "                    )\n",
        "            if (params['area'] == \"south\"):\n",
        "                text_message = TextSendMessage(text='請選擇地點',\n",
        "                                quick_reply=QuickReply(items=[\n",
        "                                    QuickReplyButton(action=PostbackAction(label=\"嘉義縣\", display_text=\"嘉義縣\",data='lmode=4&area=6001013000')),\n",
        "                                    QuickReplyButton(action=PostbackAction(label=\"臺南市\", display_text=\"臺南市\",data='lmode=4&area=6001014000')),\n",
        "                                    QuickReplyButton(action=PostbackAction(label=\"高雄市\", display_text=\"高雄市\",data='lmode=4&area=6001016000')),\n",
        "                                    QuickReplyButton(action=PostbackAction(label=\"屏東縣\", display_text=\"屏東縣\",data='lmode=4&area=6001018000')),\n",
        "                                    QuickReplyButton(action=PostbackAction(label=\"澎湖縣\", display_text=\"澎湖縣\",data='lmode=4&area=6001021000')),\n",
        "                                    QuickReplyButton(action=PostbackAction(label=\"金門縣\", display_text=\"金門縣\",data='lmode=4&area=6001022000')),\n",
        "                                    QuickReplyButton(action=PostbackAction(label=\"連江縣\", display_text=\"連江縣\",data='lmode=4&area=6001020000')),\n",
        "                                ]))\n",
        "                line_bot_api.reply_message(\n",
        "                    event.reply_token,\n",
        "                    text_message\n",
        "                    )\n",
        "            if (params['area'] == \"all\"):\n",
        "                # config = configparser.ConfigParser()\n",
        "                # config.read(('./personal_config/%s.ini')%(event.source.user_id))\n",
        "                config.set('params','area',str(''))\n",
        "                config.write(open(('./personal_config/%s.ini')%(event.source.user_id), 'w'))\n",
        "            \n",
        "        if ('keyword' in params):\n",
        "            if (params['keyword'] == 'reset'):\n",
        "                # config = configparser.ConfigParser()\n",
        "                # config.read(('./personal_config/%s.ini')%(event.source.user_id))\n",
        "                config.set('params','keyword',str(''))\n",
        "                config.write(open(('./personal_config/%s.ini')%(event.source.user_id), 'w'))\n",
        "                line_bot_api.reply_message(\n",
        "                    event.reply_token,\n",
        "                    [TextSendMessage(\"已為您重設關鍵字\"),get_setting_Message(event.source.user_id)]\n",
        "                    )\n",
        "                config.set('personstatus','catch_word',str(0))\n",
        "                config.write(open(('./personal_config/%s.ini')%(event.source.user_id), 'w'))\n",
        "            else:\n",
        "                line_bot_api.reply_message(\n",
        "                    event.reply_token,\n",
        "                    TextSendMessage(\"請輸入關鍵字(例：工作職稱、公司名、技能專長...):\")\n",
        "                    )\n",
        "                config.set('personstatus','catch_word',str(1))\n",
        "                config.write(open(('./personal_config/%s.ini')%(event.source.user_id), 'w'))\n",
        "        if ('ro' in params):\n",
        "            # config = configparser.ConfigParser()\n",
        "            # config.read(('./personal_config/%s.ini')%(event.source.user_id))\n",
        "            config.set('params','ro',str(params['ro']))\n",
        "            config.write(open(('./personal_config/%s.ini')%(event.source.user_id), 'w'))\n",
        "            line_bot_api.reply_message(\n",
        "                event.reply_token,\n",
        "                TextSendMessage(\"已為您設定\")\n",
        "                )\n",
        "        if ('sctp' in params):\n",
        "            # config = configparser.ConfigParser()\n",
        "            # config.read(('./personal_config/%s.ini')%(event.source.user_id))\n",
        "            config.set('params','sctp',str(params['sctp']))\n",
        "            config.set('params','scmin',str(params['scmin']))\n",
        "            config.write(open(('./personal_config/%s.ini')%(event.source.user_id), 'w'))\n",
        "            line_bot_api.reply_message(\n",
        "                event.reply_token,\n",
        "                TextSendMessage(\"已為您設定\")\n",
        "                )\n",
        "            # config.set('personstatus','catch_word',str(0))\n",
        "            # config.write(open(('./personal_config/%s.ini')%(event.source.user_id), 'w'))\n",
        "            \n",
        "\n",
        "    elif Mode == '2':#搜尋工作\n",
        "\n",
        "        \n",
        "        # config = configparser.ConfigParser()\n",
        "        # config.read(('./personal_config/%s.ini')%(event.source.user_id))\n",
        "        # config.set('params','page',str(int(config['params']['page'])+1))\n",
        "        # config.write(open(('./personal_config/%s.ini')%(event.source.user_id)), 'w')\n",
        "        params = {}\n",
        "        # for section in config:\n",
        "        #     # print(i)\n",
        "        #     for key in config[section]:\n",
        "        #         params[section] = config[section][key]\n",
        "        for key in config['params']:\n",
        "            params[key] = config['params'][key]\n",
        "        # print(\"params = \",params)\n",
        "        # params = transfer_params(params)\n",
        "        params['page'] = 1\n",
        "        config.set('params','page',str('1'))\n",
        "        config.write(open(('./personal_config/%s.ini')%(event.source.user_id), 'w'))\n",
        "        threading.Thread(target = makeMessageReply,args = (event.reply_token,params)).start()\n",
        "        print(\"transfer_params = \",params)\n",
        "        # df = Catch_104_joblist(my_paramas = params)\n",
        "        # df = df.fillna('https://www.104.com.tw/jobs/main/syserr?eid=14805901391537855361')\n",
        "        # jobListLineMessage = make_flex_message(df)\n",
        "        # # print(event.reply_token)\n",
        "        # line_bot_api.reply_message(\n",
        "        #     event.reply_token,\n",
        "        #     jobListLineMessage)\n",
        "    elif Mode == '4': #QuickReply設定地區\n",
        "        \n",
        "        # config = configparser.ConfigParser()\n",
        "        # config.read(('./personal_config/%s.ini')%(event.source.user_id))\n",
        "        if (config['params']['area'] != ''):\n",
        "            config.set('params','area',config['params']['area']+\"、\"+str(params['area']))\n",
        "            config.write(open(('./personal_config/%s.ini')%(event.source.user_id), 'w'))\n",
        "        else:\n",
        "            config.set('params','area',str(params['area']))\n",
        "            config.write(open(('./personal_config/%s.ini')%(event.source.user_id), 'w'))\n",
        "        # personal_setting_Message = get_setting_Message(event.source.user_id)\n",
        "        line_bot_api.reply_message(\n",
        "                    event.reply_token,\n",
        "                    [TextSendMessage(\"已為您添加\"),get_setting_Message(event.source.user_id)]\n",
        "                    )\n",
        "    elif Mode == '5':\n",
        "        path = ('./personal_config/%s.ini')%(event.source.user_id)\n",
        "        os.remove(path)\n",
        "        check_section(('./personal_config/%s.ini')%(event.source.user_id))\n",
        "        line_bot_api.reply_message(\n",
        "                    event.reply_token,\n",
        "                    [TextSendMessage(\"已為您重設\"),get_setting_Message(event.source.user_id)]\n",
        "                    )\n",
        "    else :#未知\n",
        "        pass\n",
        "\n",
        "\n",
        "# 公司名稱,工作職稱,工作內容,職務類別,工作待遇,工作性質,上班地點,管理責任,出差外派,上班時段,休假制度,可上班日,需求人數,接受身份,學歷要求,工作經歷語文條件,工作技能\n",
        "# ,其他條件,公司福利,科系要求,聯絡方式,連結路徑,公司標記"
      ],
      "execution_count": null,
      "outputs": []
    },
    {
      "cell_type": "code",
      "metadata": {
        "id": "RQrqGmEruyxd",
        "colab_type": "code",
        "colab": {}
      },
      "source": [
        "# params = {'ro': '0', 'order': '11', 'asc': '0', 'page': '1', 'jobexp': '1', 'mode': 's', 'jobsource': '2018indexpoc'}\n",
        "# Catch_104_joblist(my_paramas = params)"
      ],
      "execution_count": null,
      "outputs": []
    },
    {
      "cell_type": "code",
      "metadata": {
        "id": "m3wpldDgw2Xd",
        "colab_type": "code",
        "colab": {}
      },
      "source": [
        "@handler.add(UnfollowEvent)\n",
        "def handle_unfollow_event(event):\n",
        "    print(event)\n",
        "    # user_profile = line_bot_api.get_profile(event.source.user_id)\n",
        "    # 把用戶個資打印出來\n",
        "    # print(user_profile.user_id)\n",
        "    # print(user_profile.display_name)\n",
        "    # print(user_profile.picture_url)\n",
        "    # print(user_profile.status_message)\n",
        "    path = ('./personal_config/%s.ini')%(event.source.user_id)\n",
        "    os.remove(path)\n",
        "    line_bot_api.unlink_rich_menu_from_users([event.source.user_id])"
      ],
      "execution_count": null,
      "outputs": []
    },
    {
      "cell_type": "markdown",
      "metadata": {
        "tags": [
          "FollowEvent"
        ],
        "id": "UqhTDk98nz2-",
        "colab_type": "text"
      },
      "source": [
        "Follow Event"
      ]
    },
    {
      "cell_type": "code",
      "metadata": {
        "id": "BP1qWsSnnz2_",
        "colab_type": "code",
        "colab": {}
      },
      "source": [
        "@handler.add(FollowEvent)\n",
        "def handle_follow_event(event):\n",
        "    print(event)\n",
        "    user_profile = line_bot_api.get_profile(event.source.user_id)\n",
        "    # 把用戶個資打印出來\n",
        "    print(user_profile.user_id)\n",
        "    print(user_profile.display_name)\n",
        "    print(user_profile.picture_url)\n",
        "    print(user_profile.status_message)\n",
        "    FileName = ('./personal_config/%s.ini')%(event.source.user_id)\n",
        "    # threading.threadint(check_section())\n",
        "    # threading.Thread(target=check_section,args=[app,]).start()\n",
        "    line_bot_api.link_rich_menu_to_users([user_profile.user_id],RichMenuId)\n",
        "    threading.Thread(target = check_section,args = (FileName,)).start()\n",
        "    with open(\"./personal_info/users.txt\", \"a\") as myfile:\n",
        "        myfile.write(json.dumps(vars(user_profile),sort_keys=True))\n",
        "        myfile.write('\\r\\n')\n",
        "\n",
        "    res = requests.get(user_profile.picture_url,verify = False).content\n",
        "    with open('./personal_info/%s.jpg'%str(user_profile.display_name),'wb') as f:     #二進位制寫入\n",
        "        f.write(res)\n",
        "    \n",
        "\n",
        "    line_bot_api.reply_message(\n",
        "        event.reply_token,[TextSendMessage(\"%s您好，歡迎使用本服務，請選擇服務項目:\"%user_profile.display_name),\n",
        "        get_Menu_Message()])\n"
      ],
      "execution_count": null,
      "outputs": []
    },
    {
      "cell_type": "code",
      "metadata": {
        "id": "hepm52oereV3",
        "colab_type": "code",
        "colab": {}
      },
      "source": [
        "#使用ngrok套件\n",
        "# import socket\n",
        "# print(socket.gethostbyname(socket.getfqdn(socket.gethostname())))\n",
        "run_with_ngrok(app)"
      ],
      "execution_count": null,
      "outputs": []
    },
    {
      "cell_type": "code",
      "metadata": {
        "id": "89tDkuCnnz3C",
        "colab_type": "code",
        "colab": {}
      },
      "source": [
        "'''\n",
        "\n",
        "啟動Server\n",
        "\n",
        "'''\n",
        "\n",
        "# def run_flask_app(app):\n",
        "app.run()\n",
        "# threading.Thread(target=run_flask_app,args=[app,]).start() "
      ],
      "execution_count": null,
      "outputs": []
    },
    {
      "cell_type": "code",
      "metadata": {
        "id": "ErqOiSWJh0Wa",
        "colab_type": "code",
        "colab": {}
      },
      "source": [
        ""
      ],
      "execution_count": null,
      "outputs": []
    },
    {
      "cell_type": "code",
      "metadata": {
        "id": "rRCgp794snkP",
        "colab_type": "code",
        "colab": {}
      },
      "source": [
        "# config = configparser.ConfigParser()\n",
        "# config.read(('./personal_config/%s.ini')%('U2c0fd74c8005427505431b35a67571ab'))\n",
        "\n",
        "# if(config.has_section(\"device_time\") == False):\n",
        "    # config.add_section(\"device_time\")\n",
        "    # config.write(open(('./personal_config/%s.ini')%('U2c0fd74c8005427505431b35a67571ab'), 'w'))"
      ],
      "execution_count": null,
      "outputs": []
    },
    {
      "cell_type": "code",
      "metadata": {
        "id": "9ayECwCe9pqJ",
        "colab_type": "code",
        "colab": {}
      },
      "source": [
        "# a= '6001001000%2C6001004000%20python'\n",
        "# a.replace(\"%2C\",\"、\")"
      ],
      "execution_count": null,
      "outputs": []
    },
    {
      "cell_type": "code",
      "metadata": {
        "id": "FowmSn0Rpph2",
        "colab_type": "code",
        "colab": {}
      },
      "source": [
        "# import ast\n",
        "# for i in config:\n",
        "#     print(i)\n",
        "#     for j in config[i]:\n",
        "#         print(j)\n",
        "#         print(config[i][j])\n",
        "#         print(config[i][j] =='')\n",
        "#         print(type(config[i][j]))\n",
        "#         # print(ast.literal_eval(config[i][j]))"
      ],
      "execution_count": null,
      "outputs": []
    }
  ]
}